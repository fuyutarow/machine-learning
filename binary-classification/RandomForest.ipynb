{
 "cells": [
  {
   "cell_type": "code",
   "execution_count": 1,
   "metadata": {},
   "outputs": [
    {
     "name": "stderr",
     "output_type": "stream",
     "text": [
      "/home/fytroo/anaconda3/lib/python3.6/site-packages/sklearn/cross_validation.py:41: DeprecationWarning: This module was deprecated in version 0.18 in favor of the model_selection module into which all the refactored classes and functions are moved. Also note that the interface of the new CV iterators are different from that of this module. This module will be removed in 0.20.\n",
      "  \"This module will be removed in 0.20.\", DeprecationWarning)\n"
     ]
    }
   ],
   "source": [
    "import os\n",
    "import shutil\n",
    "import math\n",
    "import pandas as pd\n",
    "import sqlite3\n",
    "import pymongo\n",
    "import numpy as np\n",
    "import matplotlib.pyplot as plt\n",
    "import matplotlib.pyplot as plt\n",
    "from sklearn import cross_validation, preprocessing, decomposition\n",
    "from sklearn.model_selection import train_test_split\n",
    "from sklearn.preprocessing import StandardScaler\n",
    "from sklearn.ensemble import RandomForestClassifier, GradientBoostingClassifier\n",
    "from sklearn.pipeline import Pipeline\n",
    "from sklearn.metrics import f1_score, recall_score, confusion_matrix\n",
    "from imblearn.under_sampling import RandomUnderSampler\n",
    "from imblearn.over_sampling import RandomOverSampler, SMOTE"
   ]
  },
  {
   "cell_type": "code",
   "execution_count": 2,
   "metadata": {
    "collapsed": true
   },
   "outputs": [],
   "source": [
    "receipts = [\n",
    "    'MED_CM_TBL_2016',\n",
    "    'MED_CO_TBL_2016',\n",
    "    'MED_GR_TBL_2016',\n",
    "    'MED_HOKO_TBL_2016',\n",
    "    'MED_IY_TBL_2016',\n",
    "    'MED_SI_TBL_2016',\n",
    "    'MED_SJ_TBL_2016',\n",
    "    'MED_SY_TBL_2016',\n",
    "    'MED_TO_TBL_2016',\n",
    "    'PHA_CM_TBL_2016',\n",
    "    'PHA_CO_TBL_2016',\n",
    "    'PHA_HOKO_TBL_2016',\n",
    "    'PHA_IY_TBL_2016',\n",
    "    'PHA_TO_TBL_2016']"
   ]
  },
  {
   "cell_type": "code",
   "execution_count": 3,
   "metadata": {
    "collapsed": true
   },
   "outputs": [],
   "source": [
    "client = pymongo.MongoClient('localhost', 27017)\n",
    "db = client.kikin"
   ]
  },
  {
   "cell_type": "code",
   "execution_count": 4,
   "metadata": {
    "collapsed": true
   },
   "outputs": [],
   "source": [
    "dbname = 'kikin.sqlite3'\n",
    "con = sqlite3.connect(dbname)\n",
    "c = con.cursor()\n",
    "dfs = {}\n",
    "for receipt in receipts:\n",
    "    q = 'select * from {}'.format(receipt)\n",
    "    df = pd.io.sql.read_sql(q,con)\n",
    "    dfs[receipt] = df\n",
    "c.close()"
   ]
  },
  {
   "cell_type": "markdown",
   "metadata": {},
   "source": [
    "### 傷病、診療、医薬から説明変数を取り出す"
   ]
  },
  {
   "cell_type": "code",
   "execution_count": 5,
   "metadata": {},
   "outputs": [
    {
     "data": {
      "text/plain": [
       "2930"
      ]
     },
     "execution_count": 5,
     "metadata": {},
     "output_type": "execute_result"
    }
   ],
   "source": [
    "df = dfs['MED_SY_TBL_2016']\n",
    "sy = df['shobyo_code'].drop_duplicates()\n",
    "n_sy = df['shobyo_code'].drop_duplicates().count()\n",
    "n_sy"
   ]
  },
  {
   "cell_type": "code",
   "execution_count": 6,
   "metadata": {},
   "outputs": [
    {
     "data": {
      "text/plain": [
       "1371"
      ]
     },
     "execution_count": 6,
     "metadata": {},
     "output_type": "execute_result"
    }
   ],
   "source": [
    "df = dfs['MED_SI_TBL_2016']\n",
    "si = df['s_tekiyo_code'].drop_duplicates()\n",
    "n_si = df['s_tekiyo_code'].drop_duplicates().count()\n",
    "n_si"
   ]
  },
  {
   "cell_type": "code",
   "execution_count": 7,
   "metadata": {},
   "outputs": [
    {
     "data": {
      "text/plain": [
       "2908"
      ]
     },
     "execution_count": 7,
     "metadata": {},
     "output_type": "execute_result"
    }
   ],
   "source": [
    "df = dfs['MED_IY_TBL_2016']\n",
    "iy = df['s_tekiyo_code'].drop_duplicates()\n",
    "n_iy = df['s_tekiyo_code'].drop_duplicates().count()\n",
    "n_iy"
   ]
  },
  {
   "cell_type": "code",
   "execution_count": 8,
   "metadata": {},
   "outputs": [
    {
     "data": {
      "text/plain": [
       "7209"
      ]
     },
     "execution_count": 8,
     "metadata": {},
     "output_type": "execute_result"
    }
   ],
   "source": [
    "dd = pd.concat([sy,iy,si])\n",
    "dd.count()"
   ]
  },
  {
   "cell_type": "markdown",
   "metadata": {},
   "source": [
    "### 傷病コード、診療コード、医薬コードに重複なし"
   ]
  },
  {
   "cell_type": "code",
   "execution_count": 9,
   "metadata": {},
   "outputs": [
    {
     "data": {
      "text/plain": [
       "7209"
      ]
     },
     "execution_count": 9,
     "metadata": {},
     "output_type": "execute_result"
    }
   ],
   "source": [
    "dd.drop_duplicates().count()"
   ]
  },
  {
   "cell_type": "code",
   "execution_count": 10,
   "metadata": {},
   "outputs": [
    {
     "data": {
      "text/plain": [
       "7209"
      ]
     },
     "execution_count": 10,
     "metadata": {},
     "output_type": "execute_result"
    }
   ],
   "source": [
    "dd.count()"
   ]
  },
  {
   "cell_type": "code",
   "execution_count": 11,
   "metadata": {
    "collapsed": true
   },
   "outputs": [],
   "source": [
    "x_values = dd.values#.tolist()\n",
    "x_size = x_values.size\n",
    "x_dic = { v:k for (k,v) in enumerate(x_values)}\n",
    "x_kv = { k:v for (k,v) in enumerate(x_values)}"
   ]
  },
  {
   "cell_type": "markdown",
   "metadata": {},
   "source": [
    "### 素性をつくる"
   ]
  },
  {
   "cell_type": "code",
   "execution_count": 12,
   "metadata": {
    "collapsed": true,
    "scrolled": true
   },
   "outputs": [],
   "source": [
    "xs = []\n",
    "ys = []\n",
    "doc = db.med.find()\n",
    "for iii, row in enumerate(doc):\n",
    "    x = np.zeros(x_size)\n",
    "    \n",
    "    # 該当する傷病があれば、その傷病に対応するindexの値を1, なければ0\n",
    "    if 'MED_SY_TBL_2016' in row:\n",
    "        for d in row['MED_SY_TBL_2016']:\n",
    "            idx = x_dic[d['shobyo_code']]\n",
    "            x[idx] = 1\n",
    "            \n",
    "    # 医薬品に対応するindexに点数を挿入\n",
    "    if 'MED_IY_TBL_2016' in row:\n",
    "        for d in row['MED_IY_TBL_2016']:\n",
    "            s_code = d['s_tekiyo_code']\n",
    "            k_code = d['k_tekiyo_code']\n",
    "            if math.isnan(s_code) and math.isnan(k_code):\n",
    "                continue\n",
    "            \n",
    "            code = s_code if not math.isnan(s_code) else k_code\n",
    "            idx = x_dic[code]\n",
    "            s = d['s_tensu']\n",
    "            k = d['k_tensu']\n",
    "\n",
    "            # 点数が負のとき、math.nanのときは 0\n",
    "            x[idx] =\\\n",
    "                s if s>=0 else\\\n",
    "                k if k>=0 else\\\n",
    "                0\n",
    "\n",
    "    # 診療に対応するindexに点数を挿入\n",
    "    if 'MED_SI_TBL_2016' in row:\n",
    "        for d in row['MED_SI_TBL_2016']:\n",
    "            s_code = d['s_tekiyo_code']\n",
    "            k_code = d['k_tekiyo_code']\n",
    "            if math.isnan(s_code) and math.isnan(k_code):\n",
    "                continue\n",
    "            \n",
    "            code = s_code if not math.isnan(s_code) else k_code\n",
    "            idx = x_dic[code]\n",
    "            s = d['s_tensu']\n",
    "            k = d['k_tensu']\n",
    "            \n",
    "            # 点数が負のとき、math.nanのときは 0\n",
    "            x[idx] =\\\n",
    "                s if s>=0 else\\\n",
    "                k if k>=0 else\\\n",
    "                0\n",
    "    \n",
    "\n",
    "    # 保険者レコードか公費レコード、どちらかに請求点数と決定点数に差があれば異常として1\n",
    "    diff =  sum([d['diff_tensu'] for d in row['MED_HOKO_TBL_2016']])\n",
    "    y = 1 if diff else 0\n",
    "    \n",
    "    xs.append(x)\n",
    "    ys.append(y)\n",
    "x_data = np.array(xs)\n",
    "y_data = np.array(ys)"
   ]
  },
  {
   "cell_type": "code",
   "execution_count": 13,
   "metadata": {},
   "outputs": [
    {
     "data": {
      "text/plain": [
       "(10000, 7211)"
      ]
     },
     "execution_count": 13,
     "metadata": {},
     "output_type": "execute_result"
    }
   ],
   "source": [
    "x_data.shape"
   ]
  },
  {
   "cell_type": "code",
   "execution_count": 14,
   "metadata": {},
   "outputs": [
    {
     "data": {
      "text/plain": [
       "138"
      ]
     },
     "execution_count": 14,
     "metadata": {},
     "output_type": "execute_result"
    }
   ],
   "source": [
    "y_data.sum()"
   ]
  },
  {
   "cell_type": "markdown",
   "metadata": {},
   "source": [
    "### ランダムフォレスト"
   ]
  },
  {
   "cell_type": "code",
   "execution_count": 15,
   "metadata": {
    "collapsed": true,
    "scrolled": false
   },
   "outputs": [],
   "source": [
    "from sklearn.cross_validation import train_test_split\n",
    "X_train, X_test, y_train, y_test = train_test_split(x_data, y_data, test_size=0.3, random_state=666)\n",
    "\n",
    "# resampling\n",
    "rus = RandomUnderSampler(random_state=0)\n",
    "ros = RandomOverSampler(random_state=0)\n",
    "smt = SMOTE(random_state=0)\n",
    "X_train_under, y_train_under = rus.fit_sample(X_train, y_train)\n",
    "X_train_over, y_train_over = ros.fit_sample(X_train, y_train)\n",
    "X_train_smote, y_train_smote = smt.fit_sample(X_train, y_train)"
   ]
  },
  {
   "cell_type": "code",
   "execution_count": 16,
   "metadata": {
    "scrolled": true
   },
   "outputs": [
    {
     "name": "stderr",
     "output_type": "stream",
     "text": [
      "/home/fytroo/anaconda3/lib/python3.6/site-packages/sklearn/feature_selection/univariate_selection.py:113: UserWarning: Features [  21   66  139  140  155  273  309  312  314  315  316  357  361  373  380\n",
      "  406  409  459  482  483  498  500  504  506  508  509  520  526  542  551\n",
      "  562  574  614  648  661  662  688  719  724  730  737  742  755  759  761\n",
      "  763  764  797  799  802  803  804  806  824  828  830  831  840  877  891\n",
      "  895  896  899  912  914  915  970  978 1005 1007 1009 1040 1047 1048 1102\n",
      " 1108 1114 1154 1155 1167 1180 1192 1216 1218 1220 1245 1246 1264 1271 1281\n",
      " 1283 1284 1297 1300 1301 1310 1311 1312 1313 1314 1320 1321 1323 1324 1332\n",
      " 1342 1343 1344 1345 1346 1347 1348 1352 1367 1368 1371 1373 1391 1402 1406\n",
      " 1409 1421 1425 1444 1445 1449 1451 1469 1474 1479 1481 1485 1488 1498 1506\n",
      " 1518 1522 1528 1529 1531 1533 1536 1538 1579 1584 1610 1627 1657 1658 1669\n",
      " 1670 1671 1672 1674 1677 1681 1682 1683 1684 1691 1701 1702 1704 1706 1707\n",
      " 1709 1711 1716 1742 1743 1747 1774 1779 1785 1790 1792 1810 1811 1812 1813\n",
      " 1815 1819 1820 1821 1823 1825 1829 1834 1837 1838 1846 1855 1856 1857 1858\n",
      " 1864 1866 1867 1871 1879 1882 1885 1897 1899 1901 1903 1907 1908 1910 1924\n",
      " 1928 1941 1951 1964 1967 2014 2015 2016 2026 2027 2028 2029 2030 2031 2032\n",
      " 2061 2065 2068 2073 2074 2075 2077 2079 2081 2082 2088 2094 2095 2096 2104\n",
      " 2110 2114 2115 2122 2126 2129 2171 2172 2173 2180 2189 2202 2203 2204 2209\n",
      " 2210 2212 2218 2228 2242 2244 2248 2250 2251 2252 2253 2254 2255 2256 2264\n",
      " 2265 2266 2267 2268 2269 2283 2289 2290 2291 2292 2317 2321 2322 2325 2327\n",
      " 2328 2332 2333 2344 2345 2371 2389 2395 2396 2397 2398 2399 2413 2421 2435\n",
      " 2437 2438 2439 2459 2472 2473 2478 2482 2496 2497 2503 2506 2507 2508 2510\n",
      " 2511 2513 2514 2517 2518 2519 2522 2529 2530 2532 2536 2550 2551 2558 2559\n",
      " 2582 2583 2587 2600 2621 2622 2628 2642 2671 2672 2673 2675 2683 2686 2687\n",
      " 2688 2689 2690 2691 2692 2694 2695 2708 2709 2710 2729 2730 2731 2732 2733\n",
      " 2734 2735 2740 2741 2748 2749 2750 2766 2767 2768 2769 2784 2805 2806 2807\n",
      " 2814 2835 2852 2853 2854 2855 2856 2857 2858 2859 2860 2862 2863 2864 2865\n",
      " 2866 2871 2872 2873 2881 2882 2883 2884 2890 2891 2892 2901 2909 2910 2911\n",
      " 2912 2913 2914 2916 2917 2922 2923 2924 2925 2966 2969 2972 3005 3013 3016\n",
      " 3112 3115 3129 3134 3146 3174 3191 3211 3218 3257 3264 3269 3270 3271 3299\n",
      " 3300 3301 3303 3306 3307 3308 3309 3366 3373 3394 3402 3409 3419 3462 3486\n",
      " 3512 3521 3528 3541 3543 3558 3569 3573 3591 3619 3620 3628 3629 3638 3685\n",
      " 3686 3691 3693 3709 3727 3779 3802 3810 3811 3818 3828 3862 3874 3885 3920\n",
      " 3924 3925 3927 3930 3931 3934 3936 3937 3938 3940 3941 3942 3943 3944 3947\n",
      " 3949 3950 3954 3958 3962 3968 3974 4015 4016 4017 4018 4020 4022 4028 4048\n",
      " 4050 4076 4112 4114 4115 4116 4118 4119 4124 4133 4162 4190 4195 4197 4227\n",
      " 4229 4230 4231 4233 4241 4250 4275 4279 4280 4285 4286 4287 4290 4295 4297\n",
      " 4298 4307 4308 4316 4317 4339 4340 4355 4361 4362 4381 4389 4390 4391 4393\n",
      " 4395 4405 4418 4422 4423 4441 4464 4465 4471 4474 4479 4483 4492 4495 4509\n",
      " 4526 4527 4546 4548 4549 4553 4554 4560 4564 4565 4566 4567 4569 4574 4575\n",
      " 4586 4635 4638 4644 4651 4658 4659 4666 4669 4671 4680 4681 4697 4719 4720\n",
      " 4721 4722 4725 4733 4763 4766 4773 4788 4789 4810 4811 4819 4820 4827 4828\n",
      " 4839 4854 4855 4860 4892 4902 4915 4932 4941 4942 4943 4946 4947 4950 4958\n",
      " 4968 4971 4973 4977 4978 4983 4984 4986 4987 4990 4991 4994 4995 5004 5006\n",
      " 5007 5017 5020 5023 5026 5033 5040 5048 5058 5059 5062 5067 5081 5111 5112\n",
      " 5127 5128 5153 5173 5178 5179 5180 5181 5182 5183 5184 5185 5186 5190 5191\n",
      " 5192 5193 5194 5198 5199 5202 5203 5206 5208 5209 5210 5211 5212 5216 5217\n",
      " 5220 5221 5224 5225 5237 5238 5247 5248 5261 5262 5264 5265 5266 5288 5293\n",
      " 5300 5304 5344 5346 5347 5379 5380 5388 5403 5404 5416 5421 5430 5443 5444\n",
      " 5447 5449 5453 5457 5459 5461 5462 5482 5484 5485 5486 5489 5491 5492 5493\n",
      " 5494 5495 5496 5532 5533 5534 5535 5536 5545 5546 5548 5549 5550 5573 5574\n",
      " 5575 5576 5577 5578 5598 5599 5600 5608 5609 5610 5617 5638 5642 5643 5644\n",
      " 5645 5646 5648 5649 5651 5664 5665 5668 5669 5670 5674 5689 5709 5710 5711\n",
      " 5712 5713 5714 5715 5716 5718 5724 5730 5731 5732 5736 5738 5739 5740 5751\n",
      " 5767 5804 5805 5806 5807 5814 5815 5816 5826 5827 5828 5829 5830 5831 5832\n",
      " 5833 5834 5835 5836 5837 5906 5986 6004 6075 6080 6081 6082 6083 6084 6085\n",
      " 6126 6161 6163 6166 6172 6173 6257 6263 6276 6284 6285 6293 6299 6319 6337\n",
      " 6353 6376 6427 6438 6477 6484 6485 6487 6490 6493 6514 6519 6529 6566 6567\n",
      " 6597 6609 6610 6611 6612 6614 6627 6628 6629 6650 6653 6654 6655 6657 6682\n",
      " 6692 6700 6719 6737 6739 6742 6755 6759 6760 6761 6780 6812 6822 6839 6840\n",
      " 6847 6849 6858 6859 6861 6863 6864 6866 6867 6875 6886 6895 6909 6911 6912\n",
      " 6929 6931 6932 6933 6939 6940 6941 6943 6944 6949 6952 6954 6956 6958 6959\n",
      " 6963 6977 6983 6991 7002 7003 7005 7010 7011 7012 7013 7030 7047 7048 7051\n",
      " 7052 7067 7070 7074 7075 7076 7081 7082 7083 7084 7085 7086 7087 7088 7097\n",
      " 7111 7112 7113 7119 7132 7133 7134 7135 7136 7144 7163 7165 7166 7172 7175\n",
      " 7176 7177 7178 7187 7195 7196 7199 7200 7202] are constant.\n",
      "  UserWarning)\n",
      "/home/fytroo/anaconda3/lib/python3.6/site-packages/sklearn/feature_selection/univariate_selection.py:114: RuntimeWarning: invalid value encountered in true_divide\n",
      "  f = msb / msw\n"
     ]
    },
    {
     "name": "stdout",
     "output_type": "stream",
     "text": [
      "Oversampling\n",
      "f1 score Train: 0.968593335299\n",
      "f1 score Test: 0.126315789474\n",
      "recall score Train: 0.951201853461\n",
      "recall score Test: 0.136363636364\n",
      "\n"
     ]
    },
    {
     "name": "stderr",
     "output_type": "stream",
     "text": [
      "/home/fytroo/anaconda3/lib/python3.6/site-packages/sklearn/feature_selection/univariate_selection.py:113: UserWarning: Features [  21   66  139  140  155  273  309  312  314  315  316  357  361  373  380\n",
      "  406  409  459  482  483  498  500  504  506  508  509  520  526  542  551\n",
      "  562  574  614  648  661  662  688  719  724  730  737  742  755  759  761\n",
      "  763  764  797  799  802  803  804  806  824  828  830  831  840  877  891\n",
      "  895  896  899  912  914  915  970  978 1005 1007 1009 1040 1047 1048 1102\n",
      " 1108 1114 1154 1155 1167 1180 1192 1216 1218 1220 1245 1246 1264 1271 1281\n",
      " 1283 1284 1297 1300 1301 1310 1311 1312 1313 1314 1320 1321 1323 1324 1332\n",
      " 1342 1343 1344 1345 1346 1347 1348 1352 1367 1368 1371 1373 1391 1402 1406\n",
      " 1409 1421 1425 1444 1445 1449 1451 1469 1474 1479 1481 1485 1488 1498 1506\n",
      " 1518 1522 1528 1529 1531 1533 1536 1538 1579 1584 1610 1627 1657 1658 1669\n",
      " 1670 1671 1672 1674 1677 1681 1682 1683 1684 1691 1701 1702 1704 1706 1707\n",
      " 1709 1711 1716 1742 1743 1747 1774 1779 1785 1790 1792 1810 1811 1812 1813\n",
      " 1815 1819 1820 1821 1823 1825 1829 1834 1837 1838 1846 1855 1856 1857 1858\n",
      " 1864 1866 1867 1871 1879 1882 1885 1897 1899 1901 1903 1907 1908 1910 1924\n",
      " 1928 1941 1951 1964 1967 2014 2015 2016 2026 2027 2028 2029 2030 2031 2032\n",
      " 2061 2065 2068 2073 2074 2075 2077 2079 2081 2082 2088 2094 2095 2096 2104\n",
      " 2110 2114 2115 2122 2126 2129 2171 2172 2173 2180 2189 2202 2203 2204 2209\n",
      " 2210 2212 2218 2228 2242 2244 2248 2250 2251 2252 2253 2254 2255 2256 2264\n",
      " 2265 2266 2267 2268 2269 2283 2289 2290 2291 2292 2317 2321 2322 2325 2327\n",
      " 2328 2332 2333 2344 2345 2371 2389 2395 2396 2397 2398 2399 2413 2421 2435\n",
      " 2437 2438 2439 2459 2472 2473 2478 2482 2496 2497 2503 2506 2507 2508 2510\n",
      " 2511 2513 2514 2517 2518 2519 2522 2529 2530 2532 2536 2550 2551 2558 2559\n",
      " 2582 2583 2587 2600 2621 2622 2628 2642 2671 2672 2673 2675 2683 2686 2687\n",
      " 2688 2689 2690 2691 2692 2694 2695 2708 2709 2710 2729 2730 2731 2732 2733\n",
      " 2734 2735 2740 2741 2748 2749 2750 2766 2767 2768 2769 2784 2805 2806 2807\n",
      " 2814 2835 2852 2853 2854 2855 2856 2857 2858 2859 2860 2862 2863 2864 2865\n",
      " 2866 2871 2872 2873 2881 2882 2883 2884 2890 2891 2892 2901 2909 2910 2911\n",
      " 2912 2913 2914 2916 2917 2922 2923 2924 2925 2966 2969 2972 3005 3013 3016\n",
      " 3112 3115 3129 3134 3146 3174 3191 3211 3218 3257 3264 3269 3270 3271 3299\n",
      " 3300 3301 3303 3306 3307 3308 3309 3366 3373 3394 3402 3409 3419 3462 3486\n",
      " 3512 3521 3528 3541 3543 3558 3569 3573 3591 3619 3620 3628 3629 3638 3685\n",
      " 3686 3691 3693 3709 3727 3779 3802 3810 3811 3818 3828 3862 3874 3885 3920\n",
      " 3924 3925 3927 3930 3931 3934 3936 3937 3938 3940 3941 3942 3943 3944 3947\n",
      " 3949 3950 3954 3958 3962 3968 3974 4015 4016 4017 4018 4020 4022 4028 4048\n",
      " 4050 4076 4112 4114 4115 4116 4118 4119 4124 4133 4162 4190 4195 4197 4227\n",
      " 4229 4230 4231 4233 4241 4250 4275 4279 4280 4285 4286 4287 4290 4295 4297\n",
      " 4298 4307 4308 4316 4317 4339 4340 4355 4361 4362 4381 4389 4390 4391 4393\n",
      " 4395 4405 4418 4422 4423 4441 4464 4465 4471 4474 4479 4483 4492 4495 4509\n",
      " 4526 4527 4546 4548 4549 4553 4554 4560 4564 4565 4566 4567 4569 4574 4575\n",
      " 4586 4635 4638 4644 4651 4658 4659 4666 4669 4671 4680 4681 4697 4719 4720\n",
      " 4721 4722 4725 4733 4763 4766 4773 4788 4789 4810 4811 4819 4820 4827 4828\n",
      " 4839 4854 4855 4860 4892 4902 4915 4932 4941 4942 4943 4946 4947 4950 4958\n",
      " 4968 4971 4973 4977 4978 4983 4984 4986 4987 4990 4991 4994 4995 5004 5006\n",
      " 5007 5017 5020 5023 5026 5033 5040 5048 5058 5059 5062 5067 5081 5111 5112\n",
      " 5127 5128 5153 5173 5178 5179 5180 5181 5182 5183 5184 5185 5186 5190 5191\n",
      " 5192 5193 5194 5198 5199 5202 5203 5206 5208 5209 5210 5211 5212 5216 5217\n",
      " 5220 5221 5224 5225 5237 5238 5247 5248 5261 5262 5264 5265 5266 5288 5293\n",
      " 5300 5304 5344 5346 5347 5379 5380 5388 5403 5404 5416 5421 5430 5443 5444\n",
      " 5447 5449 5453 5457 5459 5461 5462 5482 5484 5485 5486 5489 5491 5492 5493\n",
      " 5494 5495 5496 5532 5533 5534 5535 5536 5545 5546 5548 5549 5550 5573 5574\n",
      " 5575 5576 5577 5578 5598 5599 5600 5608 5609 5610 5617 5638 5642 5643 5644\n",
      " 5645 5646 5648 5649 5651 5664 5665 5668 5669 5670 5674 5689 5709 5710 5711\n",
      " 5712 5713 5714 5715 5716 5718 5724 5730 5731 5732 5736 5738 5739 5740 5751\n",
      " 5767 5804 5805 5806 5807 5814 5815 5816 5826 5827 5828 5829 5830 5831 5832\n",
      " 5833 5834 5835 5836 5837 5906 5986 6004 6075 6080 6081 6082 6083 6084 6085\n",
      " 6126 6161 6163 6166 6172 6173 6257 6263 6276 6284 6285 6293 6299 6319 6337\n",
      " 6353 6376 6427 6438 6477 6484 6485 6487 6490 6493 6514 6519 6529 6566 6567\n",
      " 6597 6609 6610 6611 6612 6614 6627 6628 6629 6650 6653 6654 6655 6657 6682\n",
      " 6692 6700 6719 6737 6739 6742 6755 6759 6760 6761 6780 6812 6822 6839 6840\n",
      " 6847 6849 6858 6859 6861 6863 6864 6866 6867 6875 6886 6895 6909 6911 6912\n",
      " 6929 6931 6932 6933 6939 6940 6941 6943 6944 6949 6952 6954 6956 6958 6959\n",
      " 6963 6977 6983 6991 7002 7003 7005 7010 7011 7012 7013 7030 7047 7048 7051\n",
      " 7052 7067 7070 7074 7075 7076 7081 7082 7083 7084 7085 7086 7087 7088 7097\n",
      " 7111 7112 7113 7119 7132 7133 7134 7135 7136 7144 7163 7165 7166 7172 7175\n",
      " 7176 7177 7178 7187 7195 7196 7199 7200 7202] are constant.\n",
      "  UserWarning)\n",
      "/home/fytroo/anaconda3/lib/python3.6/site-packages/sklearn/feature_selection/univariate_selection.py:114: RuntimeWarning: invalid value encountered in true_divide\n",
      "  f = msb / msw\n"
     ]
    },
    {
     "name": "stdout",
     "output_type": "stream",
     "text": [
      "SMOTE\n",
      "f1 score Train: 0.991971974894\n",
      "f1 score Test: 0.0416666666667\n",
      "recall score Train: 0.984071821604\n",
      "recall score Test: 0.0227272727273\n",
      "\n"
     ]
    }
   ],
   "source": [
    "# modeling & evaluation\n",
    "import sklearn\n",
    "from sklearn.ensemble import RandomForestClassifier\n",
    "\n",
    "select = sklearn.feature_selection.SelectKBest(k=100)\n",
    "clf = sklearn.ensemble.RandomForestClassifier()\n",
    "\n",
    "pipe_gb = Pipeline([('feature_selection', select),\n",
    "        ('random_forest', clf)])\n",
    "\n",
    "\n",
    "X_train, y_train = X_train_over, y_train_over\n",
    "pipe_gb.fit(X_train, y_train)\n",
    "print('Oversampling')\n",
    "print('f1 score Train:', f1_score(y_train, pipe_gb.predict(X_train)))\n",
    "print('f1 score Test:', f1_score(y_test, pipe_gb.predict(X_test)))\n",
    "print('recall score Train:', recall_score(y_train, pipe_gb.predict(X_train)))\n",
    "print('recall score Test:', recall_score(y_test, pipe_gb.predict(X_test)))\n",
    "print()\n",
    "\n",
    "X_train, y_train = X_train_smote, y_train_smote\n",
    "pipe_gb.fit(X_train, y_train)\n",
    "print('SMOTE')\n",
    "print('f1 score Train:', f1_score(y_train, pipe_gb.predict(X_train)))\n",
    "print('f1 score Test:', f1_score(y_test, pipe_gb.predict(X_test)))\n",
    "print('recall score Train:', recall_score(y_train, pipe_gb.predict(X_train)))\n",
    "print('recall score Test:', recall_score(y_test, pipe_gb.predict(X_test)))\n",
    "print()\n"
   ]
  },
  {
   "cell_type": "code",
   "execution_count": 17,
   "metadata": {},
   "outputs": [
    {
     "name": "stdout",
     "output_type": "stream",
     "text": [
      "f1: 0.0416666666667\n",
      "recall: 0.0227272727273\n"
     ]
    },
    {
     "data": {
      "text/plain": [
       "(array([[2953,    3],\n",
       "        [  43,    1]]), 2953, 3, 43, 1)"
      ]
     },
     "execution_count": 17,
     "metadata": {},
     "output_type": "execute_result"
    }
   ],
   "source": [
    "A = pipe_gb.predict(X_test)#*np.array([1,1])\n",
    "tn, fp, fn, tp = confusion_matrix(y_test, A).ravel()\n",
    "print('f1:',f1_score(y_test, A))\n",
    "print('recall:',recall_score(y_test, A))\n",
    "confusion_matrix(y_test, A),tn, fp, fn, tp"
   ]
  }
 ],
 "metadata": {
  "kernelspec": {
   "display_name": "Python 3",
   "language": "python",
   "name": "python3"
  },
  "language_info": {
   "codemirror_mode": {
    "name": "ipython",
    "version": 3
   },
   "file_extension": ".py",
   "mimetype": "text/x-python",
   "name": "python",
   "nbconvert_exporter": "python",
   "pygments_lexer": "ipython3",
   "version": "3.6.1"
  }
 },
 "nbformat": 4,
 "nbformat_minor": 2
}
